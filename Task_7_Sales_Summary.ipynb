{
 "cells": [
  {
   "cell_type": "code",
   "execution_count": 3,
   "id": "24b5b9a2-8ed6-42c8-96c3-fd473895d6a6",
   "metadata": {},
   "outputs": [],
   "source": [
    "import sqlite3\n",
    "\n",
    "# Connect to (or create) the SQLite database\n",
    "conn = sqlite3.connect(\"sales_data.db\")\n",
    "cursor = conn.cursor()\n",
    "\n",
    "# Create a simple sales table\n",
    "cursor.execute(\"\"\"\n",
    "CREATE TABLE IF NOT EXISTS sales (\n",
    "    id INTEGER PRIMARY KEY,\n",
    "    product TEXT,\n",
    "    quantity INTEGER,\n",
    "    price REAL\n",
    ")\n",
    "\"\"\")\n",
    "\n",
    "# Insert some dummy data\n",
    "sales_data = [\n",
    "    (\"Laptop\", 4, 800),\n",
    "    (\"Mouse\", 10, 25),\n",
    "    (\"Keyboard\", 6, 45),\n",
    "    (\"Monitor\", 3, 300),\n",
    "    (\"Laptop\", 2, 800),\n",
    "    (\"Mouse\", 5, 25),\n",
    "    (\"Monitor\", 2, 300),\n",
    "]\n",
    "\n",
    "cursor.executemany(\"INSERT INTO sales (product, quantity, price) VALUES (?, ?, ?)\", sales_data)\n",
    "\n",
    "# Commit and close for now\n",
    "conn.commit()\n",
    "conn.close()\n"
   ]
  },
  {
   "cell_type": "code",
   "execution_count": 5,
   "id": "7ab1ffd4-12bb-433f-a206-718fb5653cda",
   "metadata": {},
   "outputs": [
    {
     "name": "stdout",
     "output_type": "stream",
     "text": [
      "Sales Summary:\n",
      "    product  total_qty  revenue\n",
      "0  Keyboard         12    540.0\n",
      "1    Laptop         12   9600.0\n",
      "2   Monitor         10   3000.0\n",
      "3     Mouse         30    750.0\n"
     ]
    }
   ],
   "source": [
    "import pandas as pd\n",
    "\n",
    "# Reconnect to the database\n",
    "conn = sqlite3.connect(\"sales_data.db\")\n",
    "\n",
    "# SQL query to get total quantity and revenue\n",
    "query = \"\"\"\n",
    "SELECT \n",
    "    product, \n",
    "    SUM(quantity) AS total_qty, \n",
    "    SUM(quantity * price) AS revenue\n",
    "FROM sales\n",
    "GROUP BY product\n",
    "\"\"\"\n",
    "\n",
    "# Execute query and load results into a DataFrame\n",
    "df = pd.read_sql_query(query, conn)\n",
    "\n",
    "# Print the result\n",
    "print(\"Sales Summary:\")\n",
    "print(df)\n",
    "\n",
    "# Close the connection\n",
    "conn.close()\n"
   ]
  },
  {
   "cell_type": "code",
   "execution_count": 9,
   "id": "3fdb73ca-39bd-401d-86de-2d6e93952148",
   "metadata": {},
   "outputs": [
    {
     "data": {
      "image/png": "[encoded data removed]",
      "text/plain": [
       "<Figure size 640x480 with 1 Axes>"
      ]
     },
     "metadata": {},
     "output_type": "display_data"
    }
   ],
   "source": [
    "import matplotlib.pyplot as plt\n",
    "\n",
    "# Plot revenue by product\n",
    "ax = df.plot(kind='bar', x='product', y='revenue', legend=False, color='skyblue')\n",
    "\n",
    "# Add labels and title\n",
    "plt.title(\"Revenue by Product\")\n",
    "plt.xlabel(\"Product\")\n",
    "plt.ylabel(\"Revenue\")\n",
    "# Add value labels on top of each bar\n",
    "for i in ax.patches:\n",
    "    ax.text(i.get_x() + i.get_width()/2,        # X position\n",
    "            i.get_height() + 10,                # Y position (slightly above bar)\n",
    "            f'{i.get_height():.2f}',            # Text to display (formatted to 2 decimal places)\n",
    "            ha='center', va='bottom', fontsize=10)\n",
    "\n",
    "plt.tight_layout()\n",
    "\n",
    "\n",
    "# Save the chart (optional)\n",
    "plt.savefig(\"sales_chart.png\")\n",
    "\n",
    "# Show the chart\n",
    "plt.show()\n"
   ]
  },
  {
   "cell_type": "code",
   "execution_count": null,
   "id": "44be477d-6aa9-46b2-b075-effa0c0979da",
   "metadata": {},
   "outputs": [],
   "source": []
  },
  {
   "cell_type": "code",
   "execution_count": null,
   "id": "fd4497eb-f040-453f-b88e-8dcf604b052b",
   "metadata": {},
   "outputs": [],
   "source": []
  },
  {
   "cell_type": "code",
   "execution_count": null,
   "id": "9aec2674-2b54-4502-9b5e-708b3df34370",
   "metadata": {},
   "outputs": [],
   "source": []
  },
  {
   "cell_type": "code",
   "execution_count": null,
   "id": "fd914bb3-1fe0-4a57-97d8-fc89b3023f05",
   "metadata": {},
   "outputs": [],
   "source": []
  },
  {
   "cell_type": "code",
   "execution_count": null,
   "id": "2f92ca07-4a6d-4a02-a4a2-c933b8b94795",
   "metadata": {},
   "outputs": [],
   "source": []
  },
  {
   "cell_type": "code",
   "execution_count": null,
   "id": "bd254d84-1cfb-4226-be7c-f676a55417a9",
   "metadata": {},
   "outputs": [],
   "source": []
  },
  {
   "cell_type": "code",
   "execution_count": null,
   "id": "2791f480-4ee3-4a6c-9bd7-a0a47fb6e417",
   "metadata": {},
   "outputs": [],
   "source": []
  }
 ],
 "metadata": {
  "kernelspec": {
   "display_name": "Python 3 (ipykernel)",
   "language": "python",
   "name": "python3"
  },
  "language_info": {
   "codemirror_mode": {
    "name": "ipython",
    "version": 3
   },
   "file_extension": ".py",
   "mimetype": "text/x-python",
   "name": "python",
   "nbconvert_exporter": "python",
   "pygments_lexer": "ipython3",
   "version": "3.12.4"
  }
 },
 "nbformat": 4,
 "nbformat_minor": 5
}
